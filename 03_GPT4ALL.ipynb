{
 "cells": [
  {
   "cell_type": "markdown",
   "metadata": {
    "id": "cRGFsVRICNgL"
   },
   "source": [
    "# Hello GPT4ALL"
   ]
  },
  {
   "cell_type": "markdown",
   "metadata": {
    "id": "jNZy8wMfCQ8M"
   },
   "source": [
    "## Install"
   ]
  },
  {
   "cell_type": "code",
   "execution_count": null,
   "metadata": {
    "colab": {
     "base_uri": "https://localhost:8080/"
    },
    "id": "-U6egfDiEdfP",
    "outputId": "68aebf29-4800-43d3-8e53-525a40e27845"
   },
   "outputs": [
    {
     "name": "stdout",
     "output_type": "stream",
     "text": [
      "Collecting gpt4all\n",
      "  Downloading gpt4all-1.0.1-py3-none-manylinux1_x86_64.whl (3.1 MB)\n",
      "\u001b[2K     \u001b[90m━━━━━━━━━━━━━━━━━━━━━━━━━━━━━━━━━━━━━━━━\u001b[0m \u001b[32m3.1/3.1 MB\u001b[0m \u001b[31m36.3 MB/s\u001b[0m eta \u001b[36m0:00:00\u001b[0m\n",
      "\u001b[?25hRequirement already satisfied: requests in /usr/local/lib/python3.10/dist-packages (from gpt4all) (2.27.1)\n",
      "Requirement already satisfied: tqdm in /usr/local/lib/python3.10/dist-packages (from gpt4all) (4.65.0)\n",
      "Requirement already satisfied: urllib3<1.27,>=1.21.1 in /usr/local/lib/python3.10/dist-packages (from requests->gpt4all) (1.26.16)\n",
      "Requirement already satisfied: certifi>=2017.4.17 in /usr/local/lib/python3.10/dist-packages (from requests->gpt4all) (2023.5.7)\n",
      "Requirement already satisfied: charset-normalizer~=2.0.0 in /usr/local/lib/python3.10/dist-packages (from requests->gpt4all) (2.0.12)\n",
      "Requirement already satisfied: idna<4,>=2.5 in /usr/local/lib/python3.10/dist-packages (from requests->gpt4all) (3.4)\n",
      "Installing collected packages: gpt4all\n",
      "Successfully installed gpt4all-1.0.1\n"
     ]
    }
   ],
   "source": [
    "!pip install gpt4all"
   ]
  },
  {
   "cell_type": "markdown",
   "metadata": {
    "id": "17a7aYKQCT5O"
   },
   "source": [
    "## Import"
   ]
  },
  {
   "cell_type": "code",
   "execution_count": null,
   "metadata": {
    "id": "tLvsgdAqEsqv"
   },
   "outputs": [],
   "source": [
    "import gpt4all"
   ]
  },
  {
   "cell_type": "markdown",
   "metadata": {
    "id": "wOHKeMjuCXva"
   },
   "source": [
    "## Load a pre-trained model\n",
    "\n",
    "https://raw.githubusercontent.com/nomic-ai/gpt4all/main/gpt4all-chat/metadata/models.json"
   ]
  },
  {
   "cell_type": "code",
   "execution_count": null,
   "metadata": {
    "colab": {
     "base_uri": "https://localhost:8080/"
    },
    "id": "LwhSoCcsEsto",
    "outputId": "691391fc-6b6e-4807-86ca-4953119c1cdb"
   },
   "outputs": [
    {
     "name": "stderr",
     "output_type": "stream",
     "text": [
      "100%|██████████| 3.79G/3.79G [01:44<00:00, 36.3MiB/s]\n"
     ]
    },
    {
     "name": "stdout",
     "output_type": "stream",
     "text": [
      "Model downloaded at:  /root/.cache/gpt4all/ggml-gpt4all-j-v1.3-groovy.bin\n"
     ]
    }
   ],
   "source": [
    "gptj = gpt4all.GPT4All(\"ggml-gpt4all-j-v1.3-groovy.bin\") #3.79G"
   ]
  },
  {
   "cell_type": "markdown",
   "metadata": {
    "id": "ghW00rKvCdRO"
   },
   "source": [
    "## Generate text\n",
    "\n",
    "\n",
    "Local LLMs can be optimized for chat conversions by reusing previous computational history.\n",
    "\n",
    "Use the GPT4All chat_session context manager to hold chat conversations with the model."
   ]
  },
  {
   "cell_type": "code",
   "execution_count": null,
   "metadata": {
    "colab": {
     "base_uri": "https://localhost:8080/"
    },
    "id": "j4l8sfkQEsxh",
    "outputId": "1495274b-bed0-4a70-e19c-c3c5117b734b"
   },
   "outputs": [
    {
     "name": "stdout",
     "output_type": "stream",
     "text": [
      "[{'role': 'user', 'content': 'hello'}, {'role': 'assistant', 'content': 'Hello! How can I assist you today?'}, {'role': 'user', 'content': 'write me a short poem'}, {'role': 'assistant', 'content': \"Sure, here's one for you. May your day be filled with love and joy.\"}, {'role': 'user', 'content': 'thank you'}, {'role': 'assistant', 'content': \"You're welcome! Is there anything else I could help you with?\"}]\n"
     ]
    }
   ],
   "source": [
    "with gptj.chat_session():\n",
    "    response = gptj.generate(prompt='hello', top_k=1)\n",
    "    response = gptj.generate(prompt='write me a short poem', top_k=1)\n",
    "    response = gptj.generate(prompt='thank you', top_k=1)\n",
    "    print(gptj.current_chat_session)"
   ]
  },
  {
   "cell_type": "code",
   "execution_count": null,
   "metadata": {
    "colab": {
     "base_uri": "https://localhost:8080/"
    },
    "id": "yFGqffAgcnBG",
    "outputId": "f3faf6f4-64d3-42c6-b834-452a2117dda0"
   },
   "outputs": [
    {
     "name": "stdout",
     "output_type": "stream",
     "text": [
      "[{'role': 'user', 'content': 'hello'}, {'role': 'assistant', 'content': 'Hello! How can I assist you today?'}, {'role': 'user', 'content': 'My name is Ibrahim, what is your name?'}, {'role': 'assistant', 'content': 'I am an artificial intelligence assistant. My name is AI-Assistant.'}, {'role': 'user', 'content': 'What is the capital of Egypt?'}, {'role': 'assistant', 'content': 'The capital city of Egypt is Cairo.'}, {'role': 'user', 'content': 'What is my name?'}, {'role': 'assistant', 'content': 'Your name is Ibrahim, what a beautiful name!'}]\n"
     ]
    }
   ],
   "source": [
    "with gptj.chat_session():\n",
    "    response = gptj.generate(prompt='hello', top_k=1)\n",
    "    response = gptj.generate(prompt='My name is Ibrahim, what is your name?', top_k=1)\n",
    "    response = gptj.generate(prompt='What is the capital of Egypt?', top_k=1)\n",
    "    response = gptj.generate(prompt='What is my name?', top_k=1)\n",
    "    print(gptj.current_chat_session)"
   ]
  },
  {
   "cell_type": "code",
   "execution_count": null,
   "metadata": {
    "id": "V2DpQpQHen-C"
   },
   "outputs": [],
   "source": []
  }
 ],
 "metadata": {
  "accelerator": "GPU",
  "colab": {
   "provenance": []
  },
  "kernelspec": {
   "display_name": "Python 3 (ipykernel)",
   "language": "python",
   "name": "python3"
  },
  "language_info": {
   "codemirror_mode": {
    "name": "ipython",
    "version": 3
   },
   "file_extension": ".py",
   "mimetype": "text/x-python",
   "name": "python",
   "nbconvert_exporter": "python",
   "pygments_lexer": "ipython3",
   "version": "3.11.7"
  }
 },
 "nbformat": 4,
 "nbformat_minor": 4
}
